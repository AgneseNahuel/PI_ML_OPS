{
 "cells": [
  {
   "cell_type": "markdown",
   "metadata": {},
   "source": [
    "GAMES"
   ]
  },
  {
   "cell_type": "code",
   "execution_count": 7,
   "metadata": {},
   "outputs": [],
   "source": [
    "import pandas as pd\n",
    "import json"
   ]
  },
  {
   "cell_type": "code",
   "execution_count": 8,
   "metadata": {},
   "outputs": [],
   "source": [
    "# Leer el archivo y cargar cada línea como un objeto JSON\n",
    "with open('output_steam_games.json', 'r', encoding='utf-8') as archivo:\n",
    "    data = [json.loads(line) for line in archivo]\n",
    "\n",
    "# Convertir la lista de objetos JSON en un DataFrame\n",
    "data_games = pd.DataFrame(data)\n",
    "data_games.drop(data_games.index[0:88310], inplace=True)"
   ]
  },
  {
   "cell_type": "code",
   "execution_count": 9,
   "metadata": {},
   "outputs": [
    {
     "data": {
      "text/html": [
       "<div>\n",
       "<style scoped>\n",
       "    .dataframe tbody tr th:only-of-type {\n",
       "        vertical-align: middle;\n",
       "    }\n",
       "\n",
       "    .dataframe tbody tr th {\n",
       "        vertical-align: top;\n",
       "    }\n",
       "\n",
       "    .dataframe thead th {\n",
       "        text-align: right;\n",
       "    }\n",
       "</style>\n",
       "<table border=\"1\" class=\"dataframe\">\n",
       "  <thead>\n",
       "    <tr style=\"text-align: right;\">\n",
       "      <th></th>\n",
       "      <th>genres</th>\n",
       "      <th>title</th>\n",
       "      <th>release_date</th>\n",
       "      <th>price</th>\n",
       "      <th>id</th>\n",
       "      <th>developer</th>\n",
       "    </tr>\n",
       "  </thead>\n",
       "  <tbody>\n",
       "    <tr>\n",
       "      <th>88310</th>\n",
       "      <td>[Action, Casual, Indie, Simulation, Strategy]</td>\n",
       "      <td>Lost Summoner Kitty</td>\n",
       "      <td>2018-01-04</td>\n",
       "      <td>4.99</td>\n",
       "      <td>761140</td>\n",
       "      <td>Kotoshiro</td>\n",
       "    </tr>\n",
       "    <tr>\n",
       "      <th>88311</th>\n",
       "      <td>[Free to Play, Indie, RPG, Strategy]</td>\n",
       "      <td>Ironbound</td>\n",
       "      <td>2018-01-04</td>\n",
       "      <td>Free To Play</td>\n",
       "      <td>643980</td>\n",
       "      <td>Secret Level SRL</td>\n",
       "    </tr>\n",
       "    <tr>\n",
       "      <th>88312</th>\n",
       "      <td>[Casual, Free to Play, Indie, Simulation, Sports]</td>\n",
       "      <td>Real Pool 3D - Poolians</td>\n",
       "      <td>2017-07-24</td>\n",
       "      <td>Free to Play</td>\n",
       "      <td>670290</td>\n",
       "      <td>Poolians.com</td>\n",
       "    </tr>\n",
       "    <tr>\n",
       "      <th>88313</th>\n",
       "      <td>[Action, Adventure, Casual]</td>\n",
       "      <td>弹炸人2222</td>\n",
       "      <td>2017-12-07</td>\n",
       "      <td>0.99</td>\n",
       "      <td>767400</td>\n",
       "      <td>彼岸领域</td>\n",
       "    </tr>\n",
       "    <tr>\n",
       "      <th>88314</th>\n",
       "      <td>NaN</td>\n",
       "      <td>NaN</td>\n",
       "      <td>NaN</td>\n",
       "      <td>2.99</td>\n",
       "      <td>773570</td>\n",
       "      <td>NaN</td>\n",
       "    </tr>\n",
       "    <tr>\n",
       "      <th>...</th>\n",
       "      <td>...</td>\n",
       "      <td>...</td>\n",
       "      <td>...</td>\n",
       "      <td>...</td>\n",
       "      <td>...</td>\n",
       "      <td>...</td>\n",
       "    </tr>\n",
       "    <tr>\n",
       "      <th>120440</th>\n",
       "      <td>[Casual, Indie, Simulation, Strategy]</td>\n",
       "      <td>Colony On Mars</td>\n",
       "      <td>2018-01-04</td>\n",
       "      <td>1.99</td>\n",
       "      <td>773640</td>\n",
       "      <td>Nikita \"Ghost_RUS\"</td>\n",
       "    </tr>\n",
       "    <tr>\n",
       "      <th>120441</th>\n",
       "      <td>[Casual, Indie, Strategy]</td>\n",
       "      <td>LOGistICAL: South Africa</td>\n",
       "      <td>2018-01-04</td>\n",
       "      <td>4.99</td>\n",
       "      <td>733530</td>\n",
       "      <td>Sacada</td>\n",
       "    </tr>\n",
       "    <tr>\n",
       "      <th>120442</th>\n",
       "      <td>[Indie, Racing, Simulation]</td>\n",
       "      <td>Russian Roads</td>\n",
       "      <td>2018-01-04</td>\n",
       "      <td>1.99</td>\n",
       "      <td>610660</td>\n",
       "      <td>Laush Dmitriy Sergeevich</td>\n",
       "    </tr>\n",
       "    <tr>\n",
       "      <th>120443</th>\n",
       "      <td>[Casual, Indie]</td>\n",
       "      <td>EXIT 2 - Directions</td>\n",
       "      <td>2017-09-02</td>\n",
       "      <td>4.99</td>\n",
       "      <td>658870</td>\n",
       "      <td>xropi,stev3ns</td>\n",
       "    </tr>\n",
       "    <tr>\n",
       "      <th>120444</th>\n",
       "      <td>NaN</td>\n",
       "      <td>NaN</td>\n",
       "      <td>NaN</td>\n",
       "      <td>4.99</td>\n",
       "      <td>681550</td>\n",
       "      <td>NaN</td>\n",
       "    </tr>\n",
       "  </tbody>\n",
       "</table>\n",
       "<p>32135 rows × 6 columns</p>\n",
       "</div>"
      ],
      "text/plain": [
       "                                                   genres  \\\n",
       "88310       [Action, Casual, Indie, Simulation, Strategy]   \n",
       "88311                [Free to Play, Indie, RPG, Strategy]   \n",
       "88312   [Casual, Free to Play, Indie, Simulation, Sports]   \n",
       "88313                         [Action, Adventure, Casual]   \n",
       "88314                                                 NaN   \n",
       "...                                                   ...   \n",
       "120440              [Casual, Indie, Simulation, Strategy]   \n",
       "120441                          [Casual, Indie, Strategy]   \n",
       "120442                        [Indie, Racing, Simulation]   \n",
       "120443                                    [Casual, Indie]   \n",
       "120444                                                NaN   \n",
       "\n",
       "                           title release_date         price      id  \\\n",
       "88310        Lost Summoner Kitty   2018-01-04          4.99  761140   \n",
       "88311                  Ironbound   2018-01-04  Free To Play  643980   \n",
       "88312    Real Pool 3D - Poolians   2017-07-24  Free to Play  670290   \n",
       "88313                    弹炸人2222   2017-12-07          0.99  767400   \n",
       "88314                        NaN          NaN          2.99  773570   \n",
       "...                          ...          ...           ...     ...   \n",
       "120440            Colony On Mars   2018-01-04          1.99  773640   \n",
       "120441  LOGistICAL: South Africa   2018-01-04          4.99  733530   \n",
       "120442             Russian Roads   2018-01-04          1.99  610660   \n",
       "120443       EXIT 2 - Directions   2017-09-02          4.99  658870   \n",
       "120444                       NaN          NaN          4.99  681550   \n",
       "\n",
       "                       developer  \n",
       "88310                  Kotoshiro  \n",
       "88311           Secret Level SRL  \n",
       "88312               Poolians.com  \n",
       "88313                       彼岸领域  \n",
       "88314                        NaN  \n",
       "...                          ...  \n",
       "120440        Nikita \"Ghost_RUS\"  \n",
       "120441                    Sacada  \n",
       "120442  Laush Dmitriy Sergeevich  \n",
       "120443             xropi,stev3ns  \n",
       "120444                       NaN  \n",
       "\n",
       "[32135 rows x 6 columns]"
      ]
     },
     "execution_count": 9,
     "metadata": {},
     "output_type": "execute_result"
    }
   ],
   "source": [
    "# Borrar columnas que no seran necesarias para el analisis posterior\n",
    "data_games.drop(['app_name','early_access','url','reviews_url','tags','publisher','specs'], axis=1, inplace = True)\n",
    "data_games.reindex()"
   ]
  },
  {
   "cell_type": "code",
   "execution_count": 10,
   "metadata": {},
   "outputs": [],
   "source": [
    "# sacar solo el año de la columna 'release_date'\n",
    "data_games['release_date'] = pd.to_datetime(data_games['release_date'], errors='coerce').dt.year\n"
   ]
  },
  {
   "cell_type": "code",
   "execution_count": 11,
   "metadata": {},
   "outputs": [],
   "source": [
    "# Borrar nulos por cada columna\n",
    "data_games = data_games.dropna(subset=['genres'])\n",
    "data_games = data_games.dropna(subset=['title'])\n",
    "data_games = data_games.dropna(subset=['release_date'])\n",
    "data_games = data_games.dropna(subset=['price'])\n",
    "data_games = data_games.dropna(subset=['id'])\n",
    "data_games = data_games.dropna(subset=['developer'])"
   ]
  },
  {
   "cell_type": "code",
   "execution_count": 12,
   "metadata": {},
   "outputs": [],
   "source": [
    "# Cambiar tipo de dato de la columna 'release_date'\n",
    "data_games['release_date'] = data_games['release_date'].astype(int)\n",
    "data_games['release_date'] = data_games['release_date'].astype(str)"
   ]
  },
  {
   "cell_type": "code",
   "execution_count": 13,
   "metadata": {},
   "outputs": [],
   "source": [
    "# Cambiar valores de la columna 'price' donde indique que sea gratuito por el numero '0'\n",
    "data_games['price'] = data_games['price'].replace({'Free To Play': 0})\n",
    "data_games['price'] = data_games['price'].replace({'Free to Play': 0})\n",
    "data_games['price'] = data_games['price'].replace({'Play for Free!': 0})\n"
   ]
  },
  {
   "cell_type": "code",
   "execution_count": 14,
   "metadata": {},
   "outputs": [],
   "source": [
    "# convierte todos los valores a numericos y si se encuentran texto se elimina\n",
    "data_games = data_games[pd.to_numeric(data_games['price'], errors='coerce').notnull()]\n"
   ]
  },
  {
   "cell_type": "code",
   "execution_count": 15,
   "metadata": {},
   "outputs": [],
   "source": [
    "# cambia el nombre de la columna 'id' a 'item_id'\n",
    "data_games = data_games.rename(columns={'id':'item_id'})\n"
   ]
  },
  {
   "cell_type": "code",
   "execution_count": 16,
   "metadata": {},
   "outputs": [],
   "source": [
    "# separa en varias columnas la columna 'genres' en un nuevo DataFrame y se concatena con el DataFrame original\n",
    "data_games1 = data_games['genres'].apply(pd.Series)\n",
    "data_games2 = pd.concat([data_games, data_games1], axis=1)"
   ]
  },
  {
   "cell_type": "code",
   "execution_count": 17,
   "metadata": {},
   "outputs": [],
   "source": [
    "# Eliminar la columna 'genres' y tambien las columnas generadas cuando se separó en varias columnas y dejando solo la primera columna ['0']\n",
    "# solo se consideraron los valores de la columna ['0'] como genero del juego\n",
    "data_games2.drop(['genres'], axis=1, inplace = True)\n",
    "data_games2.drop([1,2,3,4,5,6,7,8,9], axis=1, inplace = True)"
   ]
  },
  {
   "cell_type": "code",
   "execution_count": 18,
   "metadata": {},
   "outputs": [],
   "source": [
    "# se seleccionan las variables con caracteristicas mas importantes a criterio\n",
    "data_games2 = data_games2[['item_id','title','developer','release_date','price']]\n"
   ]
  },
  {
   "cell_type": "code",
   "execution_count": 19,
   "metadata": {},
   "outputs": [],
   "source": [
    "# se eliminnan duplicados en caso de haber\n",
    "data_games2 = data_games2.drop_duplicates()"
   ]
  },
  {
   "cell_type": "code",
   "execution_count": 28,
   "metadata": {},
   "outputs": [],
   "source": [
    "\n",
    "# se exporta la tabla como archivo separa por comas de nombre 'games'\n",
    "data_games2.to_csv('games.csv', index=False)"
   ]
  },
  {
   "cell_type": "markdown",
   "metadata": {},
   "source": [
    "ITEMS"
   ]
  },
  {
   "cell_type": "code",
   "execution_count": 21,
   "metadata": {},
   "outputs": [],
   "source": [
    "import ast"
   ]
  },
  {
   "cell_type": "code",
   "execution_count": 22,
   "metadata": {},
   "outputs": [],
   "source": [
    "# Lista para almacenar los diccionarios JSON de cada línea\n",
    "data_list = []\n",
    "\n",
    "# Ruta del archivo JSON\n",
    "file_path = 'australian_users_items.json'\n",
    "\n",
    "# Abrir el archivo y procesar cada línea\n",
    "with open(file_path, 'r', encoding='utf-8') as file:\n",
    "    for line in file:\n",
    "        try:\n",
    "            # Usar ast.literal_eval para convertir la línea en un diccionario\n",
    "            json_data = ast.literal_eval(line)\n",
    "            data_list.append(json_data)\n",
    "        except ValueError as e:\n",
    "            print(f\"Error en la línea: {line}\")\n",
    "            continue\n",
    "\n",
    "# Crear un DataFrame a partir de la lista de diccionarios\n",
    "data_it = pd.DataFrame(data_list)"
   ]
  },
  {
   "cell_type": "code",
   "execution_count": 29,
   "metadata": {},
   "outputs": [],
   "source": [
    "# se desanidan los datos de la columna ['items']\n",
    "data_it1 = data_it.explode(['items'])\n",
    "data_it2 = pd.json_normalize(data_it1['items']).set_index(data_it1['items'].index)\n",
    "data_it3= pd.concat([data_it2, data_it1], axis=1)\n",
    "\n",
    "#se eliminan las columnas que no se consideran relevantes para el posterior analisis\n",
    "data_it3.drop(['items_count','user_url','item_name','steam_id'], axis=1, inplace=True)\n",
    "\n",
    "# se eliminan los datos nulos por columnas\n",
    "data_it3 = data_it3.dropna(subset=['item_id'])\n",
    "data_it3 = data_it3.dropna(subset=['playtime_forever'])\n",
    "\n",
    "# se eliminan 2 columnas adicionales\n",
    "data_it3.drop(['items','playtime_2weeks'], axis=1, inplace=True)\n",
    "\n",
    "# se define el dataframe solo para aquellos juegos donde tuvieron un tiempo jugado (condicion)\n",
    "data_it3 = data_it3[data_it3['playtime_forever'] != 0]\n",
    "\n",
    "# conservar las 3 columnas mas importantes para el analisis\n",
    "data_it3 = data_it3[['user_id','item_id','playtime_forever']]\n",
    "\n",
    "# se eliminan los duplicados y valores nulos en caso de haber\n",
    "data_it3 = data_it3.drop_duplicates()\n",
    "data_it3 = data_it3.dropna()\n",
    "\n",
    "# se exporta la tabla como archivo separa por comas de nombre 'user_items'\n",
    "data_it3.to_csv('user_items.csv', index=False)"
   ]
  },
  {
   "cell_type": "markdown",
   "metadata": {},
   "source": [
    "REVIEWS"
   ]
  },
  {
   "cell_type": "code",
   "execution_count": 24,
   "metadata": {},
   "outputs": [],
   "source": [
    "from textblob import TextBlob"
   ]
  },
  {
   "cell_type": "code",
   "execution_count": 25,
   "metadata": {},
   "outputs": [],
   "source": [
    "# Lista para almacenar los diccionarios JSON de cada línea\n",
    "data_list = []\n",
    "\n",
    "# Ruta del archivo JSON\n",
    "file_path = 'australian_user_reviews.json'\n",
    "\n",
    "# Abrir el archivo y procesar cada línea\n",
    "with open(file_path, 'r', encoding='utf-8') as file:\n",
    "    for line in file:\n",
    "        try:\n",
    "            # Usar ast.literal_eval para convertir la línea en un diccionario\n",
    "            json_data = ast.literal_eval(line)\n",
    "            data_list.append(json_data)\n",
    "        except ValueError as e:\n",
    "            print(f\"Error en la línea: {line}\")\n",
    "            continue\n",
    "\n",
    "# Crear un DataFrame a partir de la lista de diccionarios\n",
    "data_re = pd.DataFrame(data_list)"
   ]
  },
  {
   "cell_type": "code",
   "execution_count": 30,
   "metadata": {},
   "outputs": [
    {
     "name": "stderr",
     "output_type": "stream",
     "text": [
      "C:\\Users\\nahue\\AppData\\Local\\Temp\\ipykernel_1892\\1034787692.py:22: FutureWarning: Downcasting behavior in `replace` is deprecated and will be removed in a future version. To retain the old behavior, explicitly call `result.infer_objects(copy=False)`. To opt-in to the future behavior, set `pd.set_option('future.no_silent_downcasting', True)`\n",
      "  data_re3['recommend'] = data_re3['recommend'].replace({'False': 0, 'True': 1}).astype(int)\n"
     ]
    }
   ],
   "source": [
    "# se desanidan los datos de la columna ['reviews']\n",
    "data_re1 = data_re.explode(['reviews'])\n",
    "data_re2 = data_re1['reviews'].apply(pd.Series)\n",
    "data_re3 = pd.concat([data_re1, data_re2], axis=1)\n",
    "\n",
    "# se crea una columna nueva con el año extraido de los valores de la columna 'posted'\n",
    "data_re3['year_posted'] = data_re3['posted'].str.extract('(\\d{4})')\n",
    "\n",
    "# se eliminan las columnas con poca relevancia para el posterior analisis\n",
    "data_re3.drop(['reviews','user_url','last_edited','funny','helpful','posted'], axis=1, inplace = True)\n",
    "\n",
    "# se eliminan valores nulos por colunas\n",
    "data_re3 = data_re3.dropna(subset=['year_posted'])\n",
    "data_re3 = data_re3.dropna(subset=['item_id'])\n",
    "data_re3 = data_re3.dropna(subset=['review'])\n",
    "data_re3 = data_re3.dropna(subset=['recommend'])\n",
    "\n",
    "# seleccion de columnas relevantes para el analisis\n",
    "data_re3 = data_re3[['user_id','item_id','review','recommend','year_posted',0]]\n",
    "\n",
    "# reemplazar valores booleanos de T/F por 1/0 y cambiar el tipo de dato a 'int'\n",
    "data_re3['recommend'] = data_re3['recommend'].replace({'False': 0, 'True': 1}).astype(int)\n",
    "\n",
    "# borrar la ultima columna [0]\n",
    "del data_re3[data_re3.columns[-1]]\n",
    "\n",
    "# funcion que analisa el sentimiento con la libreria TextBlob\n",
    "def get_sentiment(text):\n",
    "    blob = TextBlob(text)\n",
    "    sentiment = blob.sentiment.polarity\n",
    "    if sentiment < -0.1:\n",
    "        return 0\n",
    "    elif sentiment > 0.1:\n",
    "        return 2\n",
    "    else:\n",
    "        return 1\n",
    "\n",
    "# crea nueva columna 'sentiment_analysis'aplicando la funcion anterior sobre la columna 'review'\n",
    "data_re3['sentiment_analysis'] = data_re3['review'].apply(get_sentiment)\n",
    "\n",
    "# eliminar la columna 'review'\n",
    "data_re3.drop(['review'], axis=1, inplace = True)\n",
    "\n",
    "# se eliminan los duplicados y valores nulos en caso de haber\n",
    "data_re3 = data_re3.drop_duplicates()\n",
    "data_re3 = data_re3.dropna()\n",
    "\n",
    "# se exporta la tabla como archivo separa por comas de nombre 'user_reviews'\n",
    "data_re3.to_csv('user_reviews.csv', index=False)"
   ]
  }
 ],
 "metadata": {
  "kernelspec": {
   "display_name": "Entorno",
   "language": "python",
   "name": "python3"
  },
  "language_info": {
   "codemirror_mode": {
    "name": "ipython",
    "version": 3
   },
   "file_extension": ".py",
   "mimetype": "text/x-python",
   "name": "python",
   "nbconvert_exporter": "python",
   "pygments_lexer": "ipython3",
   "version": "3.9.13"
  }
 },
 "nbformat": 4,
 "nbformat_minor": 2
}
