{
 "cells": [
  {
   "cell_type": "code",
   "execution_count": 2,
   "metadata": {},
   "outputs": [],
   "source": [
    "import pandas as pd"
   ]
  },
  {
   "cell_type": "code",
   "execution_count": 6,
   "metadata": {},
   "outputs": [],
   "source": [
    "games = pd.read_csv('games.csv')\n",
    "items = pd.read_csv('user_items.csv')\n",
    "reviews = pd.read_csv('user_reviews.csv')"
   ]
  },
  {
   "cell_type": "code",
   "execution_count": 7,
   "metadata": {},
   "outputs": [],
   "source": [
    "# seleccionar columnas relevantes del DataFrame 'user_items'\n",
    "items = items[['user_id','item_id','playtime_forever']]\n",
    "\n",
    "# generar un identificador único en el DataFrame 'user_items'\n",
    "items['item_id'] = items['item_id'].astype(str)\n",
    "items['id'] = items['user_id'] + items['item_id']\n",
    "\n",
    "# cambiando tipo de dato de la columna 'item_id' del DataFrame 'games'\n",
    "games['item_id'] = games['item_id'].astype(str)\n",
    "\n",
    "# generar un identificador único en el DataFrame 'user_reviews'\n",
    "reviews['item_id'] = reviews['item_id'].astype(str)\n",
    "reviews['id'] = reviews['user_id'] + reviews['item_id']\n",
    "\n",
    "# union de dataframes reviews y games por el 'item_id' y eliminacion de nulos\n",
    "merged_df = reviews.merge(games, on='item_id', how='left')\n",
    "merged_df.dropna(inplace=True)\n",
    "\n",
    "# generar dataframe definitivo uniendo 'items' con 'merge_df' por el identificador unico 'id' de nombre 'steam'\n",
    "steam = items.merge(merged_df, on='id')\n",
    "\n",
    "# renombrando columnas del dataframe 'steam'\n",
    "steam = steam.rename(columns={'user_id_x':'user_id'})\n",
    "steam = steam.rename(columns={'item_id_x':'item_id'})\n",
    "\n",
    "# eliminando columnas redundantes del dataframe 'steam'\n",
    "steam.drop('user_id_y', axis='columns', inplace=True)\n",
    "steam.drop('item_id_y', axis='columns', inplace=True)\n",
    "\n",
    "# cambio de tipos de datos de algunas columnas\n",
    "steam['release_date'] = steam['release_date'].astype(str)\n",
    "steam['year_posted'] = steam['year_posted'].astype(str)\n",
    "steam['playtime_forever'] = steam['playtime_forever'].astype(int)\n",
    "\n",
    "# seleccionando columnas definitivas para el analisis\n",
    "steam = steam[['id','user_id','item_id','title','developer','release_date','price','recommend','year_posted','sentiment_analysis','playtime_forever']]\n",
    "\n",
    "# exportando archivo separado por comas de nombre 'data_steam'\n",
    "steam.to_csv('data_steam.csv', index=False)"
   ]
  }
 ],
 "metadata": {
  "kernelspec": {
   "display_name": "Entorno",
   "language": "python",
   "name": "python3"
  },
  "language_info": {
   "codemirror_mode": {
    "name": "ipython",
    "version": 3
   },
   "file_extension": ".py",
   "mimetype": "text/x-python",
   "name": "python",
   "nbconvert_exporter": "python",
   "pygments_lexer": "ipython3",
   "version": "3.9.13"
  }
 },
 "nbformat": 4,
 "nbformat_minor": 2
}
