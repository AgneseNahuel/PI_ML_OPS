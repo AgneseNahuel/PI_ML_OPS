{
 "cells": [
  {
   "cell_type": "code",
   "execution_count": 21,
   "metadata": {},
   "outputs": [],
   "source": [
    "import pandas as pd\n",
    "from sklearn.metrics.pairwise import cosine_similarity\n",
    "from sklearn.feature_extraction.text import TfidfVectorizer\n"
   ]
  },
  {
   "cell_type": "code",
   "execution_count": 23,
   "metadata": {},
   "outputs": [],
   "source": [
    "# se carga el dataset que se va a utilizar para dos dataframes distintos\n",
    "data = pd.read_csv('data_steam.csv')\n",
    "data_juegos_steam = pd.read_csv('data_steam.csv')\n",
    "\n",
    "# eliminando columnas irrelevantes\n",
    "data_juegos_steam.drop(['id','user_id','recommend','price','playtime_forever','year_posted','sentiment_analysis','developer','release_date'],axis=1,inplace=True)\n",
    "data.drop(['id','user_id','recommend','price','playtime_forever','year_posted','sentiment_analysis'],axis=1,inplace=True)\n",
    "\n",
    "# cambiando tipos de datos\n",
    "data['item_id'] = data['item_id'].astype(str)\n",
    "data['release_date'] = data['release_date'].astype(str)\n",
    "\n",
    "# borrando duplicados\n",
    "data = data.drop_duplicates(subset='item_id', keep='first')\n",
    "data_juegos_steam = data_juegos_steam.drop_duplicates(subset='item_id', keep='first')\n",
    "\n",
    "# Combinar los valores de las columnas en una sola columna\n",
    "data['features'] = data[['title', 'developer', 'release_date']].apply(lambda x: ', '.join(x), axis=1)\n",
    "\n",
    "data.drop(['title','developer','release_date'],axis=1,inplace=True)\n",
    "\n",
    "# Exportar data limpia de juegos\n",
    "data.to_csv('juegos_steam.csv', index=False)\n",
    "data_juegos_steam.to_csv('juegos_id.csv', index=False)"
   ]
  },
  {
   "cell_type": "markdown",
   "metadata": {},
   "source": [
    "ML"
   ]
  },
  {
   "cell_type": "code",
   "execution_count": 24,
   "metadata": {},
   "outputs": [],
   "source": [
    "def recomendacion_juego(item_id):\n",
    "    # se carga los datasets que se va a utilizar para dos dataframes distintos\n",
    "    data = pd.read_csv('juegos_steam.csv')\n",
    "    data_juegos_steam = pd.read_csv('juegos_id.csv')\n",
    "\n",
    "    # crear una matriz de características de los juegos\n",
    "    tfidv = TfidfVectorizer(min_df=2, max_df=0.7, token_pattern=r'\\b[a-zA-Z0-9]\\w+\\b')\n",
    "    data_vector = tfidv.fit_transform(data['features'])\n",
    "\n",
    "    data_vector_df = pd.DataFrame(data_vector.toarray(), index=data['item_id'], columns = tfidv.get_feature_names_out())\n",
    "\n",
    "    # calcular la similitud coseno entre los juegos en la matriz de características\n",
    "    vector_similitud_coseno = cosine_similarity(data_vector_df.values)\n",
    "\n",
    "    cos_sim_df = pd.DataFrame(vector_similitud_coseno, index=data_vector_df.index, columns=data_vector_df.index)\n",
    "\n",
    "    juego_simil = cos_sim_df.loc[item_id]\n",
    "\n",
    "    simil_ordenada = juego_simil.sort_values(ascending=False)\n",
    "    resultado = simil_ordenada.head(6).reset_index()\n",
    "\n",
    "    result_df = resultado.merge(data_juegos_steam, on='item_id',how='left')\n",
    "\n",
    "    # La función devuelve una lista de los 6 juegos más similares al juego dado\n",
    "    juego_title = data_juegos_steam[data_juegos_steam['item_id'] == item_id]['title'].values[0]\n",
    "\n",
    "    # mensaje que indica el juego original y los juegos recomendados\n",
    "    mensaje = f\"Si te gustó el juego {item_id} : {juego_title}, también te pueden gustar:\"\n",
    "\n",
    "    result_dict = {\n",
    "        'mensaje': mensaje,\n",
    "        'juegos recomendados': result_df['title'][1:6].tolist()\n",
    "    }\n",
    "\n",
    "    return result_dict"
   ]
  },
  {
   "cell_type": "code",
   "execution_count": 25,
   "metadata": {},
   "outputs": [
    {
     "data": {
      "text/plain": [
       "{'mensaje': 'Si te gustó el juego 1250 : Killing Floor, también te pueden gustar:',\n",
       " 'juegos recomendados': ['Killing Floor 2',\n",
       "  'Red Orchestra: Ostfront 41-45',\n",
       "  'Caster',\n",
       "  'Marauder',\n",
       "  'Fading Hearts']}"
      ]
     },
     "execution_count": 25,
     "metadata": {},
     "output_type": "execute_result"
    }
   ],
   "source": [
    "raul= recomendacion_juego(1250)\n",
    "raul"
   ]
  }
 ],
 "metadata": {
  "kernelspec": {
   "display_name": "Entorno",
   "language": "python",
   "name": "python3"
  },
  "language_info": {
   "codemirror_mode": {
    "name": "ipython",
    "version": 3
   },
   "file_extension": ".py",
   "mimetype": "text/x-python",
   "name": "python",
   "nbconvert_exporter": "python",
   "pygments_lexer": "ipython3",
   "version": "3.9.13"
  }
 },
 "nbformat": 4,
 "nbformat_minor": 2
}
