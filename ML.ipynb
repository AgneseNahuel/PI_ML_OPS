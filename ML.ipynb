{
 "cells": [
  {
   "cell_type": "code",
   "execution_count": 1,
   "metadata": {},
   "outputs": [],
   "source": [
    "import pandas as pd\n",
    "from sklearn.metrics.pairwise import cosine_similarity\n",
    "from sklearn.feature_extraction.text import TfidfVectorizer\n",
    "from sklearn.ensemble import RandomForestClassifier\n",
    "from sklearn.model_selection import train_test_split\n",
    "from sklearn.metrics import accuracy_score\n"
   ]
  },
  {
   "cell_type": "code",
   "execution_count": 2,
   "metadata": {},
   "outputs": [],
   "source": [
    "games = pd.read_csv(\"CSV/games.csv\")\n",
    "df_reviews = pd.read_csv(\"CSV/user_reviews.csv\")\n",
    "df_items = pd.read_csv(\"CSV/user_items.csv\")\n",
    "data_steam = pd.read_csv(\"CSV/data_steam.csv\")"
   ]
  },
  {
   "cell_type": "markdown",
   "metadata": {},
   "source": [
    "Para el modelo de Recommend_Games()"
   ]
  },
  {
   "cell_type": "code",
   "execution_count": 4,
   "metadata": {},
   "outputs": [],
   "source": [
    "# se carga el dataset que se va a utilizar para dos dataframes distintos\n",
    "data = pd.read_csv(\"CSV/data_steam.csv\")\n",
    "data_juegos_steam = pd.read_csv(\"CSV/data_steam.csv\")\n",
    "\n",
    "# eliminando columnas irrelevantes\n",
    "data_juegos_steam.drop([\"id\",\"user_id\",\"recommend\",\"price\",\"playtime_forever\",\"year_posted\",\"sentiment_analysis\",\"developer\",\"release_date\"],axis=1,inplace=True)\n",
    "data.drop([\"id\",\"user_id\",\"recommend\",\"price\",\"playtime_forever\",\"year_posted\",\"sentiment_analysis\"],axis=1,inplace=True)\n",
    "\n",
    "# cambiando tipos de datos\n",
    "data[\"item_id\"] = data[\"item_id\"].astype(str)\n",
    "data[\"release_date\"] = data[\"release_date\"].astype(str)\n",
    "\n",
    "# borrando duplicados\n",
    "data = data.drop_duplicates(subset=\"item_id\", keep=\"first\")\n",
    "data_juegos_steam = data_juegos_steam.drop_duplicates(subset=\"item_id\", keep=\"first\")\n",
    "\n",
    "# Combinar los valores de las columnas en una sola columna\n",
    "data[\"features\"] = data[[\"title\", \"developer\", \"release_date\"]].apply(lambda x: \", \".join(x), axis=1)\n",
    "\n",
    "data.drop([\"title\",\"developer\",\"release_date\"],axis=1,inplace=True)\n",
    "\n",
    "# Exportar data limpia de juegos\n",
    "data.to_csv(\"CSV/juegos_steam.csv\", index=False)\n",
    "data_juegos_steam.to_csv(\"CSV/juegos_id.csv\", index=False)"
   ]
  },
  {
   "cell_type": "markdown",
   "metadata": {},
   "source": [
    "Para el Modelo de Recomendacion_Usuarios()"
   ]
  },
  {
   "cell_type": "code",
   "execution_count": 5,
   "metadata": {},
   "outputs": [
    {
     "name": "stdout",
     "output_type": "stream",
     "text": [
      "Precisión del modelo: 0.9015904572564613\n"
     ]
    }
   ],
   "source": [
    "#Seleccionar características (X) y la etiqueta (y)\n",
    "X = data_steam[[\"item_id\", \"release_date\", \"price\", \"sentiment_analysis\", \"playtime_forever\"]]\n",
    "y = data_steam[\"recommend\"]\n",
    "\n",
    "#Divide el conjunto de datos en conjuntos de entrenamiento y prueba\n",
    "X_train, X_test, y_train, y_test = train_test_split(X, y, test_size=0.2, random_state=42)\n",
    "\n",
    "#Crea y entrena el modelo\n",
    "modelo = RandomForestClassifier(n_estimators=100, random_state=42)\n",
    "modelo.fit(X_train, y_train)\n",
    "\n",
    "#Realiza predicciones en el conjunto de prueba\n",
    "predicciones = modelo.predict(X_test)\n",
    "\n",
    "#Evalúa la precisión del modelo\n",
    "precision = accuracy_score(y_test, predicciones)\n",
    "print(f\"Precisión del modelo: {precision}\")"
   ]
  }
 ],
 "metadata": {
  "kernelspec": {
   "display_name": "Entorno",
   "language": "python",
   "name": "python3"
  },
  "language_info": {
   "codemirror_mode": {
    "name": "ipython",
    "version": 3
   },
   "file_extension": ".py",
   "mimetype": "text/x-python",
   "name": "python",
   "nbconvert_exporter": "python",
   "pygments_lexer": "ipython3",
   "version": "3.9.13"
  }
 },
 "nbformat": 4,
 "nbformat_minor": 2
}
